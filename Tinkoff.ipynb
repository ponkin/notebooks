{
 "cells": [
  {
   "cell_type": "code",
   "execution_count": 1,
   "metadata": {
    "collapsed": true
   },
   "outputs": [],
   "source": [
    "import pandas as pd\n",
    "import numpy as np\n",
    "\n",
    "%matplotlib inline\n",
    "import matplotlib.pyplot as plt\n",
    "import locale\n",
    "from locale import atof"
   ]
  },
  {
   "cell_type": "code",
   "execution_count": 30,
   "metadata": {
    "collapsed": false
   },
   "outputs": [],
   "source": [
    "credits = pd.read_csv('credit_train.csv.zip', compression='zip', sep=';', encoding='cp1251', decimal=',')"
   ]
  },
  {
   "cell_type": "code",
   "execution_count": 31,
   "metadata": {
    "collapsed": false
   },
   "outputs": [
    {
     "data": {
      "text/html": [
       "<div>\n",
       "<table border=\"1\" class=\"dataframe\">\n",
       "  <thead>\n",
       "    <tr style=\"text-align: right;\">\n",
       "      <th></th>\n",
       "      <th>client_id</th>\n",
       "      <th>gender</th>\n",
       "      <th>age</th>\n",
       "      <th>marital_status</th>\n",
       "      <th>job_position</th>\n",
       "      <th>credit_sum</th>\n",
       "      <th>credit_month</th>\n",
       "      <th>tariff_id</th>\n",
       "      <th>score_shk</th>\n",
       "      <th>education</th>\n",
       "      <th>living_region</th>\n",
       "      <th>monthly_income</th>\n",
       "      <th>credit_count</th>\n",
       "      <th>overdue_credit_count</th>\n",
       "      <th>open_account_flg</th>\n",
       "    </tr>\n",
       "  </thead>\n",
       "  <tbody>\n",
       "    <tr>\n",
       "      <th>25</th>\n",
       "      <td>26</td>\n",
       "      <td>F</td>\n",
       "      <td>22</td>\n",
       "      <td>UNM</td>\n",
       "      <td>SPC</td>\n",
       "      <td>30000.00</td>\n",
       "      <td>18</td>\n",
       "      <td>1.1</td>\n",
       "      <td>0.550770</td>\n",
       "      <td>UGR</td>\n",
       "      <td>РЕСП. БАШКОРТОСТАН</td>\n",
       "      <td>30000.0</td>\n",
       "      <td>NaN</td>\n",
       "      <td>NaN</td>\n",
       "      <td>1</td>\n",
       "    </tr>\n",
       "    <tr>\n",
       "      <th>50</th>\n",
       "      <td>51</td>\n",
       "      <td>F</td>\n",
       "      <td>35</td>\n",
       "      <td>MAR</td>\n",
       "      <td>SPC</td>\n",
       "      <td>13779.00</td>\n",
       "      <td>10</td>\n",
       "      <td>1.6</td>\n",
       "      <td>0.677837</td>\n",
       "      <td>GRD</td>\n",
       "      <td>ОБЛ НОВОСИБИРСКАЯ</td>\n",
       "      <td>28000.0</td>\n",
       "      <td>NaN</td>\n",
       "      <td>NaN</td>\n",
       "      <td>0</td>\n",
       "    </tr>\n",
       "    <tr>\n",
       "      <th>52</th>\n",
       "      <td>53</td>\n",
       "      <td>F</td>\n",
       "      <td>33</td>\n",
       "      <td>DIV</td>\n",
       "      <td>DIR</td>\n",
       "      <td>15379.20</td>\n",
       "      <td>10</td>\n",
       "      <td>1.22</td>\n",
       "      <td>0.566717</td>\n",
       "      <td>GRD</td>\n",
       "      <td>САНКТ-ПЕТЕРБУРГ</td>\n",
       "      <td>60000.0</td>\n",
       "      <td>NaN</td>\n",
       "      <td>NaN</td>\n",
       "      <td>0</td>\n",
       "    </tr>\n",
       "    <tr>\n",
       "      <th>72</th>\n",
       "      <td>73</td>\n",
       "      <td>M</td>\n",
       "      <td>21</td>\n",
       "      <td>UNM</td>\n",
       "      <td>ATP</td>\n",
       "      <td>14309.00</td>\n",
       "      <td>10</td>\n",
       "      <td>1.1</td>\n",
       "      <td>0.293619</td>\n",
       "      <td>SCH</td>\n",
       "      <td>МОСКВА</td>\n",
       "      <td>30000.0</td>\n",
       "      <td>NaN</td>\n",
       "      <td>NaN</td>\n",
       "      <td>1</td>\n",
       "    </tr>\n",
       "    <tr>\n",
       "      <th>74</th>\n",
       "      <td>75</td>\n",
       "      <td>F</td>\n",
       "      <td>27</td>\n",
       "      <td>MAR</td>\n",
       "      <td>SPC</td>\n",
       "      <td>15248.00</td>\n",
       "      <td>10</td>\n",
       "      <td>1.6</td>\n",
       "      <td>0.591578</td>\n",
       "      <td>SCH</td>\n",
       "      <td>ОРЕНБУРГСКАЯ ОБЛ</td>\n",
       "      <td>10000.0</td>\n",
       "      <td>NaN</td>\n",
       "      <td>NaN</td>\n",
       "      <td>0</td>\n",
       "    </tr>\n",
       "    <tr>\n",
       "      <th>87</th>\n",
       "      <td>88</td>\n",
       "      <td>F</td>\n",
       "      <td>25</td>\n",
       "      <td>MAR</td>\n",
       "      <td>SPC</td>\n",
       "      <td>20683.00</td>\n",
       "      <td>10</td>\n",
       "      <td>1.32</td>\n",
       "      <td>0.504309</td>\n",
       "      <td>SCH</td>\n",
       "      <td>РОСТОВСКАЯ ОБЛ</td>\n",
       "      <td>30000.0</td>\n",
       "      <td>NaN</td>\n",
       "      <td>NaN</td>\n",
       "      <td>1</td>\n",
       "    </tr>\n",
       "    <tr>\n",
       "      <th>94</th>\n",
       "      <td>95</td>\n",
       "      <td>M</td>\n",
       "      <td>26</td>\n",
       "      <td>UNM</td>\n",
       "      <td>SPC</td>\n",
       "      <td>26088.00</td>\n",
       "      <td>10</td>\n",
       "      <td>1.6</td>\n",
       "      <td>0.756208</td>\n",
       "      <td>GRD</td>\n",
       "      <td>КРАСНОЯРСКИЙ КРАЙ</td>\n",
       "      <td>25000.0</td>\n",
       "      <td>NaN</td>\n",
       "      <td>NaN</td>\n",
       "      <td>0</td>\n",
       "    </tr>\n",
       "    <tr>\n",
       "      <th>138</th>\n",
       "      <td>139</td>\n",
       "      <td>M</td>\n",
       "      <td>48</td>\n",
       "      <td>MAR</td>\n",
       "      <td>SPC</td>\n",
       "      <td>10159.00</td>\n",
       "      <td>10</td>\n",
       "      <td>1.6</td>\n",
       "      <td>0.661510</td>\n",
       "      <td>SCH</td>\n",
       "      <td>СТАВРОПОЛЬСКИЙ КРАЙ</td>\n",
       "      <td>25500.0</td>\n",
       "      <td>NaN</td>\n",
       "      <td>NaN</td>\n",
       "      <td>0</td>\n",
       "    </tr>\n",
       "    <tr>\n",
       "      <th>153</th>\n",
       "      <td>154</td>\n",
       "      <td>F</td>\n",
       "      <td>23</td>\n",
       "      <td>UNM</td>\n",
       "      <td>SPC</td>\n",
       "      <td>30431.11</td>\n",
       "      <td>10</td>\n",
       "      <td>1.6</td>\n",
       "      <td>0.725202</td>\n",
       "      <td>GRD</td>\n",
       "      <td>ОБЛ БЕЛГОРОДСКАЯ</td>\n",
       "      <td>15000.0</td>\n",
       "      <td>NaN</td>\n",
       "      <td>NaN</td>\n",
       "      <td>0</td>\n",
       "    </tr>\n",
       "    <tr>\n",
       "      <th>154</th>\n",
       "      <td>155</td>\n",
       "      <td>F</td>\n",
       "      <td>53</td>\n",
       "      <td>MAR</td>\n",
       "      <td>SPC</td>\n",
       "      <td>7379.00</td>\n",
       "      <td>6</td>\n",
       "      <td>1.4</td>\n",
       "      <td>0.569212</td>\n",
       "      <td>UGR</td>\n",
       "      <td>ОБЛ ПСКОВСКАЯ</td>\n",
       "      <td>57000.0</td>\n",
       "      <td>NaN</td>\n",
       "      <td>NaN</td>\n",
       "      <td>0</td>\n",
       "    </tr>\n",
       "  </tbody>\n",
       "</table>\n",
       "</div>"
      ],
      "text/plain": [
       "     client_id gender  age marital_status job_position  credit_sum  \\\n",
       "25          26      F   22            UNM          SPC    30000.00   \n",
       "50          51      F   35            MAR          SPC    13779.00   \n",
       "52          53      F   33            DIV          DIR    15379.20   \n",
       "72          73      M   21            UNM          ATP    14309.00   \n",
       "74          75      F   27            MAR          SPC    15248.00   \n",
       "87          88      F   25            MAR          SPC    20683.00   \n",
       "94          95      M   26            UNM          SPC    26088.00   \n",
       "138        139      M   48            MAR          SPC    10159.00   \n",
       "153        154      F   23            UNM          SPC    30431.11   \n",
       "154        155      F   53            MAR          SPC     7379.00   \n",
       "\n",
       "     credit_month tariff_id  score_shk education        living_region  \\\n",
       "25             18       1.1   0.550770       UGR   РЕСП. БАШКОРТОСТАН   \n",
       "50             10       1.6   0.677837       GRD    ОБЛ НОВОСИБИРСКАЯ   \n",
       "52             10      1.22   0.566717       GRD      САНКТ-ПЕТЕРБУРГ   \n",
       "72             10       1.1   0.293619       SCH               МОСКВА   \n",
       "74             10       1.6   0.591578       SCH     ОРЕНБУРГСКАЯ ОБЛ   \n",
       "87             10      1.32   0.504309       SCH       РОСТОВСКАЯ ОБЛ   \n",
       "94             10       1.6   0.756208       GRD    КРАСНОЯРСКИЙ КРАЙ   \n",
       "138            10       1.6   0.661510       SCH  СТАВРОПОЛЬСКИЙ КРАЙ   \n",
       "153            10       1.6   0.725202       GRD     ОБЛ БЕЛГОРОДСКАЯ   \n",
       "154             6       1.4   0.569212       UGR        ОБЛ ПСКОВСКАЯ   \n",
       "\n",
       "     monthly_income  credit_count  overdue_credit_count  open_account_flg  \n",
       "25          30000.0           NaN                   NaN                 1  \n",
       "50          28000.0           NaN                   NaN                 0  \n",
       "52          60000.0           NaN                   NaN                 0  \n",
       "72          30000.0           NaN                   NaN                 1  \n",
       "74          10000.0           NaN                   NaN                 0  \n",
       "87          30000.0           NaN                   NaN                 1  \n",
       "94          25000.0           NaN                   NaN                 0  \n",
       "138         25500.0           NaN                   NaN                 0  \n",
       "153         15000.0           NaN                   NaN                 0  \n",
       "154         57000.0           NaN                   NaN                 0  "
      ]
     },
     "execution_count": 31,
     "metadata": {},
     "output_type": "execute_result"
    }
   ],
   "source": [
    "credits[pd.isnull(credits['overdue_credit_count'])].head(10)"
   ]
  },
  {
   "cell_type": "code",
   "execution_count": 61,
   "metadata": {
    "collapsed": false
   },
   "outputs": [
    {
     "data": {
      "text/plain": [
       "<matplotlib.text.Text at 0x7f348664d630>"
      ]
     },
     "execution_count": 61,
     "metadata": {},
     "output_type": "execute_result"
    },
    {
     "data": {
      "image/png": "[encoded data removed]",
      "text/plain": [
       "<matplotlib.figure.Figure at 0x7f34866fca90>"
      ]
     },
     "metadata": {},
     "output_type": "display_data"
    }
   ],
   "source": [
    "plt.figure(figsize=(15, 10))\n",
    "plt.hist(credits['age'], bins=100)\n",
    "plt.xlabel('age')"
   ]
  },
  {
   "cell_type": "code",
   "execution_count": 51,
   "metadata": {
    "collapsed": false
   },
   "outputs": [],
   "source": [
    "by_gender_job = credits.groupby(['gender', 'job_position'])"
   ]
  },
  {
   "cell_type": "code",
   "execution_count": 55,
   "metadata": {
    "collapsed": false
   },
   "outputs": [],
   "source": [
    "agg_credits = by_gender_job.size().unstack().fillna(0)"
   ]
  },
  {
   "cell_type": "code",
   "execution_count": null,
   "metadata": {
    "collapsed": true
   },
   "outputs": [],
   "source": []
  }
 ],
 "metadata": {
  "kernelspec": {
   "display_name": "Python 3",
   "language": "python",
   "name": "python3"
  },
  "language_info": {
   "codemirror_mode": {
    "name": "ipython",
    "version": 3
   },
   "file_extension": ".py",
   "mimetype": "text/x-python",
   "name": "python",
   "nbconvert_exporter": "python",
   "pygments_lexer": "ipython3",
   "version": "3.6.0"
  }
 },
 "nbformat": 4,
 "nbformat_minor": 2
}
