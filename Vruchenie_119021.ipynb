{
 "cells": [
  {
   "cell_type": "code",
   "execution_count": 47,
   "metadata": {
    "collapsed": false
   },
   "outputs": [],
   "source": [
    "import pandas as pd\n",
    "import numpy as np\n",
    "\n",
    "%matplotlib inline\n",
    "import matplotlib.pyplot as plt"
   ]
  },
  {
   "cell_type": "code",
   "execution_count": 50,
   "metadata": {
    "collapsed": true
   },
   "outputs": [],
   "source": [
    "vruchenie_119021 = pd.read_csv('vruchenie_119021.tar.gz', sep='\\t', encoding='utf-8', error_bad_lines=False, compression='gzip', dtype=str, parse_dates=['oper_date_time', 'oper_date_time_msk', 'oper_date_time_local'], names=['bar_code', 'oper_date_time', 'oper_date_time_local', 'oper_date_time_msk', 'oper_type', 'oper_attr', 'oper_type_local', 'oper_type_name_local', 'type_of_operand1', 'id_of_operand1', 'seal_num', 'entity_type', 'entity_type_loc_id', 'entity_type_loc_name', 'index_from', 'mass'])"
   ]
  },
  {
   "cell_type": "code",
   "execution_count": 51,
   "metadata": {
    "collapsed": false
   },
   "outputs": [
    {
     "data": {
      "text/plain": [
       "<Container object of 22 artists>"
      ]
     },
     "execution_count": 51,
     "metadata": {},
     "output_type": "execute_result"
    },
    {
     "data": {
      "image/png": "[encoded data removed]",
      "text/plain": [
       "<matplotlib.figure.Figure at 0x1099ad5d0>"
      ]
     },
     "metadata": {},
     "output_type": "display_data"
    }
   ],
   "source": [
    "counts_vruchenie_119021 = vruchenie_119021['oper_date_time_msk'].dt.hour.value_counts(sort=False)\n",
    "plt.bar(counts_vruchenie_119021.index,counts_vruchenie_119021)"
   ]
  },
  {
   "cell_type": "code",
   "execution_count": 66,
   "metadata": {
    "collapsed": false
   },
   "outputs": [
    {
     "data": {
      "text/html": [
       "<div>\n",
       "<table border=\"1\" class=\"dataframe\">\n",
       "  <thead>\n",
       "    <tr style=\"text-align: right;\">\n",
       "      <th></th>\n",
       "      <th>bar_code</th>\n",
       "      <th>oper_date_time</th>\n",
       "      <th>oper_date_time_local</th>\n",
       "      <th>oper_date_time_msk</th>\n",
       "      <th>oper_type</th>\n",
       "      <th>oper_attr</th>\n",
       "      <th>oper_type_local</th>\n",
       "      <th>oper_type_name_local</th>\n",
       "      <th>type_of_operand1</th>\n",
       "      <th>id_of_operand1</th>\n",
       "      <th>seal_num</th>\n",
       "      <th>entity_type</th>\n",
       "      <th>entity_type_loc_id</th>\n",
       "      <th>entity_type_loc_name</th>\n",
       "      <th>index_from</th>\n",
       "      <th>mass</th>\n",
       "    </tr>\n",
       "  </thead>\n",
       "  <tbody>\n",
       "    <tr>\n",
       "      <th>count</th>\n",
       "      <td>1204</td>\n",
       "      <td>1204</td>\n",
       "      <td>1204</td>\n",
       "      <td>1204</td>\n",
       "      <td>1204</td>\n",
       "      <td>1204</td>\n",
       "      <td>1204</td>\n",
       "      <td>0</td>\n",
       "      <td>1204</td>\n",
       "      <td>1204</td>\n",
       "      <td>0</td>\n",
       "      <td>0</td>\n",
       "      <td>0</td>\n",
       "      <td>0</td>\n",
       "      <td>961</td>\n",
       "      <td>1189</td>\n",
       "    </tr>\n",
       "    <tr>\n",
       "      <th>unique</th>\n",
       "      <td>1204</td>\n",
       "      <td>592</td>\n",
       "      <td>592</td>\n",
       "      <td>592</td>\n",
       "      <td>1</td>\n",
       "      <td>2</td>\n",
       "      <td>1</td>\n",
       "      <td>0</td>\n",
       "      <td>1</td>\n",
       "      <td>1204</td>\n",
       "      <td>0</td>\n",
       "      <td>0</td>\n",
       "      <td>0</td>\n",
       "      <td>0</td>\n",
       "      <td>399</td>\n",
       "      <td>152</td>\n",
       "    </tr>\n",
       "    <tr>\n",
       "      <th>top</th>\n",
       "      <td>14581303099692</td>\n",
       "      <td>2016-10-27 03:36:21</td>\n",
       "      <td>2016-10-27 06:36:21</td>\n",
       "      <td>2016-10-27 06:36:21</td>\n",
       "      <td>2</td>\n",
       "      <td>1</td>\n",
       "      <td>2</td>\n",
       "      <td>NaN</td>\n",
       "      <td>1</td>\n",
       "      <td>14581303099692</td>\n",
       "      <td>NaN</td>\n",
       "      <td>NaN</td>\n",
       "      <td>NaN</td>\n",
       "      <td>NaN</td>\n",
       "      <td>140961</td>\n",
       "      <td>20</td>\n",
       "    </tr>\n",
       "    <tr>\n",
       "      <th>freq</th>\n",
       "      <td>1</td>\n",
       "      <td>19</td>\n",
       "      <td>19</td>\n",
       "      <td>19</td>\n",
       "      <td>1204</td>\n",
       "      <td>1203</td>\n",
       "      <td>1204</td>\n",
       "      <td>NaN</td>\n",
       "      <td>1204</td>\n",
       "      <td>1</td>\n",
       "      <td>NaN</td>\n",
       "      <td>NaN</td>\n",
       "      <td>NaN</td>\n",
       "      <td>NaN</td>\n",
       "      <td>244</td>\n",
       "      <td>503</td>\n",
       "    </tr>\n",
       "    <tr>\n",
       "      <th>first</th>\n",
       "      <td>NaN</td>\n",
       "      <td>2016-10-13 03:51:59</td>\n",
       "      <td>2016-10-13 06:51:59</td>\n",
       "      <td>2016-10-13 06:51:59</td>\n",
       "      <td>NaN</td>\n",
       "      <td>NaN</td>\n",
       "      <td>NaN</td>\n",
       "      <td>NaN</td>\n",
       "      <td>NaN</td>\n",
       "      <td>NaN</td>\n",
       "      <td>NaN</td>\n",
       "      <td>NaN</td>\n",
       "      <td>NaN</td>\n",
       "      <td>NaN</td>\n",
       "      <td>NaN</td>\n",
       "      <td>NaN</td>\n",
       "    </tr>\n",
       "    <tr>\n",
       "      <th>last</th>\n",
       "      <td>NaN</td>\n",
       "      <td>2016-12-24 02:19:51</td>\n",
       "      <td>2016-12-24 05:19:51</td>\n",
       "      <td>2016-12-24 05:19:51</td>\n",
       "      <td>NaN</td>\n",
       "      <td>NaN</td>\n",
       "      <td>NaN</td>\n",
       "      <td>NaN</td>\n",
       "      <td>NaN</td>\n",
       "      <td>NaN</td>\n",
       "      <td>NaN</td>\n",
       "      <td>NaN</td>\n",
       "      <td>NaN</td>\n",
       "      <td>NaN</td>\n",
       "      <td>NaN</td>\n",
       "      <td>NaN</td>\n",
       "    </tr>\n",
       "  </tbody>\n",
       "</table>\n",
       "</div>"
      ],
      "text/plain": [
       "              bar_code       oper_date_time oper_date_time_local  \\\n",
       "count             1204                 1204                 1204   \n",
       "unique            1204                  592                  592   \n",
       "top     14581303099692  2016-10-27 03:36:21  2016-10-27 06:36:21   \n",
       "freq                 1                   19                   19   \n",
       "first              NaN  2016-10-13 03:51:59  2016-10-13 06:51:59   \n",
       "last               NaN  2016-12-24 02:19:51  2016-12-24 05:19:51   \n",
       "\n",
       "         oper_date_time_msk oper_type oper_attr oper_type_local  \\\n",
       "count                  1204      1204      1204            1204   \n",
       "unique                  592         1         2               1   \n",
       "top     2016-10-27 06:36:21         2         1               2   \n",
       "freq                     19      1204      1203            1204   \n",
       "first   2016-10-13 06:51:59       NaN       NaN             NaN   \n",
       "last    2016-12-24 05:19:51       NaN       NaN             NaN   \n",
       "\n",
       "        oper_type_name_local type_of_operand1  id_of_operand1  seal_num  \\\n",
       "count                      0             1204            1204         0   \n",
       "unique                     0                1            1204         0   \n",
       "top                      NaN                1  14581303099692       NaN   \n",
       "freq                     NaN             1204               1       NaN   \n",
       "first                    NaN              NaN             NaN       NaN   \n",
       "last                     NaN              NaN             NaN       NaN   \n",
       "\n",
       "        entity_type  entity_type_loc_id  entity_type_loc_name index_from  mass  \n",
       "count             0                   0                     0        961  1189  \n",
       "unique            0                   0                     0        399   152  \n",
       "top             NaN                 NaN                   NaN     140961    20  \n",
       "freq            NaN                 NaN                   NaN        244   503  \n",
       "first           NaN                 NaN                   NaN        NaN   NaN  \n",
       "last            NaN                 NaN                   NaN        NaN   NaN  "
      ]
     },
     "execution_count": 66,
     "metadata": {},
     "output_type": "execute_result"
    }
   ],
   "source": [
    "vruchenie_119021[(vruchenie_119021['oper_date_time_msk'].dt.hour > 20) | (vruchenie_119021['oper_date_time_msk'].dt.hour < 7)].describe()"
   ]
  },
  {
   "cell_type": "code",
   "execution_count": 52,
   "metadata": {
    "collapsed": true
   },
   "outputs": [],
   "source": [
    "priem_119021 = pd.read_csv('priem_119021.tar.gz', sep='\\t', encoding='utf-8', error_bad_lines=False, compression='gzip', dtype=str, parse_dates=['oper_date_time', 'oper_date_time_msk', 'oper_date_time_local'], names=['bar_code', 'oper_date_time', 'oper_date_time_local', 'oper_date_time_msk', 'oper_type', 'oper_attr', 'oper_type_local', 'oper_type_name_local', 'type_of_operand1', 'id_of_operand1', 'seal_num', 'entity_type', 'entity_type_loc_id', 'entity_type_loc_name', 'index_from', 'mass'])"
   ]
  },
  {
   "cell_type": "code",
   "execution_count": 53,
   "metadata": {
    "collapsed": false
   },
   "outputs": [
    {
     "data": {
      "text/plain": [
       "<Container object of 18 artists>"
      ]
     },
     "execution_count": 53,
     "metadata": {},
     "output_type": "execute_result"
    },
    {
     "data": {
      "image/png": "[encoded data removed]",
      "text/plain": [
       "<matplotlib.figure.Figure at 0x106572350>"
      ]
     },
     "metadata": {},
     "output_type": "display_data"
    }
   ],
   "source": [
    "counts_priem_119021 = priem_119021['oper_date_time_msk'].dt.hour.value_counts(sort=False)\n",
    "plt.bar(counts_priem_119021.index,counts_priem_119021)"
   ]
  },
  {
   "cell_type": "code",
   "execution_count": 46,
   "metadata": {
    "collapsed": false,
    "scrolled": false
   },
   "outputs": [
    {
     "data": {
      "text/plain": [
       "count               7611\n",
       "unique              7611\n",
       "top       11902101116429\n",
       "freq                   1\n",
       "Name: bar_code, dtype: object"
      ]
     },
     "execution_count": 46,
     "metadata": {},
     "output_type": "execute_result"
    }
   ],
   "source": [
    "priem_119021['bar_code'].describe()"
   ]
  },
  {
   "cell_type": "code",
   "execution_count": 37,
   "metadata": {
    "collapsed": false
   },
   "outputs": [],
   "source": [
    "priem_119021['index_from'] = priem_119021['index_from'].fillna(0)"
   ]
  },
  {
   "cell_type": "code",
   "execution_count": 40,
   "metadata": {
    "collapsed": false
   },
   "outputs": [],
   "source": [
    "priem_119021 = priem_119021[priem_119021['index_from'].isin(['0', '119021'])]"
   ]
  },
  {
   "cell_type": "code",
   "execution_count": 43,
   "metadata": {
    "collapsed": false
   },
   "outputs": [
    {
     "data": {
      "text/plain": [
       "<Container object of 18 artists>"
      ]
     },
     "execution_count": 43,
     "metadata": {},
     "output_type": "execute_result"
    },
    {
     "data": {
      "image/png": "[encoded data removed]",
      "text/plain": [
       "<matplotlib.figure.Figure at 0x109593fd0>"
      ]
     },
     "metadata": {},
     "output_type": "display_data"
    }
   ],
   "source": [
    "counts_priem_119021 = priem_119021['oper_date_time_msk'].dt.hour.value_counts(sort=False)\n",
    "plt.bar(counts_priem_119021.index,counts_priem_119021)"
   ]
  },
  {
   "cell_type": "code",
   "execution_count": 5,
   "metadata": {
    "collapsed": true
   },
   "outputs": [],
   "source": [
    "events167001 = pd.read_csv('vruchenie_167001.tar.gz', sep='\\t', encoding='utf-8', error_bad_lines=False, compression='gzip', dtype=str, parse_dates=['oper_date_time', 'oper_date_time_msk', 'oper_date_time_local'], names=['bar_code', 'oper_date_time', 'oper_date_time_local', 'oper_date_time_msk', 'oper_type', 'oper_attr', 'oper_type_local', 'oper_type_name_local', 'type_of_operand1', 'id_of_operand1', 'seal_num', 'entity_type', 'entity_type_loc_id', 'entity_type_loc_name', 'index_from', 'mass'])"
   ]
  },
  {
   "cell_type": "code",
   "execution_count": 6,
   "metadata": {
    "collapsed": true
   },
   "outputs": [],
   "source": [
    "delivered167001 = events167001[events167001['oper_type'] == '2']"
   ]
  },
  {
   "cell_type": "code",
   "execution_count": 15,
   "metadata": {
    "collapsed": false
   },
   "outputs": [
    {
     "data": {
      "text/plain": [
       "<Container object of 16 artists>"
      ]
     },
     "execution_count": 15,
     "metadata": {},
     "output_type": "execute_result"
    },
    {
     "data": {
      "image/png": "[encoded data removed]",
      "text/plain": [
       "<matplotlib.figure.Figure at 0x10646a510>"
      ]
     },
     "metadata": {},
     "output_type": "display_data"
    }
   ],
   "source": [
    "counts167001 = delivered167001['oper_date_time_local'].dt.hour.value_counts(sort=False)\n",
    "plt.bar(counts167001.index,counts167001)"
   ]
  },
  {
   "cell_type": "code",
   "execution_count": 16,
   "metadata": {
    "collapsed": true
   },
   "outputs": [],
   "source": [
    "priem167001 = pd.read_csv('priem_167001.tar.gz', sep='\\t', encoding='utf-8', error_bad_lines=False, compression='gzip', dtype=str, parse_dates=['oper_date_time', 'oper_date_time_msk', 'oper_date_time_local'], names=['bar_code', 'oper_date_time', 'oper_date_time_local', 'oper_date_time_msk', 'oper_type', 'oper_attr', 'oper_type_local', 'oper_type_name_local', 'type_of_operand1', 'id_of_operand1', 'seal_num', 'entity_type', 'entity_type_loc_id', 'entity_type_loc_name', 'index_from', 'mass'])"
   ]
  },
  {
   "cell_type": "code",
   "execution_count": 22,
   "metadata": {
    "collapsed": false
   },
   "outputs": [
    {
     "data": {
      "text/plain": [
       "<Container object of 15 artists>"
      ]
     },
     "execution_count": 22,
     "metadata": {},
     "output_type": "execute_result"
    },
    {
     "data": {
      "image/png": "[encoded data removed]",
      "text/plain": [
       "<matplotlib.figure.Figure at 0x108d04ad0>"
      ]
     },
     "metadata": {},
     "output_type": "display_data"
    }
   ],
   "source": [
    "priem_counts = priem167001['oper_date_time_local'].dt.hour.value_counts(sort=False)\n",
    "plt.bar(priem_counts.index,priem_counts)"
   ]
  },
  {
   "cell_type": "code",
   "execution_count": 25,
   "metadata": {
    "collapsed": false
   },
   "outputs": [
    {
     "data": {
      "text/plain": [
       "count                   14402\n",
       "unique                   7724\n",
       "top       2016-12-27 20:14:55\n",
       "freq                       24\n",
       "first     2016-09-30 17:00:00\n",
       "last      2016-12-31 15:51:17\n",
       "Name: oper_date_time_local, dtype: object"
      ]
     },
     "execution_count": 25,
     "metadata": {},
     "output_type": "execute_result"
    }
   ],
   "source": [
    "priem167001['oper_date_time_local'].describe()"
   ]
  },
  {
   "cell_type": "code",
   "execution_count": null,
   "metadata": {
    "collapsed": true
   },
   "outputs": [],
   "source": []
  }
 ],
 "metadata": {
  "kernelspec": {
   "display_name": "Python 2",
   "language": "python",
   "name": "python2"
  },
  "language_info": {
   "codemirror_mode": {
    "name": "ipython",
    "version": 2
   },
   "file_extension": ".py",
   "mimetype": "text/x-python",
   "name": "python",
   "nbconvert_exporter": "python",
   "pygments_lexer": "ipython2",
   "version": "2.7.10"
  }
 },
 "nbformat": 4,
 "nbformat_minor": 0
}
