{
 "cells": [
  {
   "cell_type": "code",
   "execution_count": 1,
   "metadata": {
    "collapsed": false,
    "scrolled": false
   },
   "outputs": [
    {
     "name": "stderr",
     "output_type": "stream",
     "text": [
      "/Library/Python/2.7/site-packages/matplotlib/font_manager.py:273: UserWarning: Matplotlib is building the font cache using fc-list. This may take a moment.\n",
      "  warnings.warn('Matplotlib is building the font cache using fc-list. This may take a moment.')\n"
     ]
    }
   ],
   "source": [
    "import pandas as pd\n",
    "import numpy as np\n",
    "\n",
    "%matplotlib inline\n",
    "import matplotlib.pyplot as plt"
   ]
  },
  {
   "cell_type": "code",
   "execution_count": 2,
   "metadata": {
    "collapsed": false
   },
   "outputs": [],
   "source": [
    "events = pd.read_csv('events_sample9.tar.gz', sep='\\t', encoding='utf-8', error_bad_lines=False, compression='gzip', dtype=str, parse_dates=['oper_date_time', 'oper_date_time_msk', 'oper_date_time_local'], names=['bar_code', 'oper_date_time', 'oper_date_time_local', 'oper_date_time_msk', 'oper_type', 'oper_attr', 'oper_type_local', 'oper_type_name_local', 'index_oper', 'country_oper', 'index_next', 'type_of_operand1', 'id_of_operand1', 'type_of_operand2', 'id_of_operand2', 'date_processed', 'oper_before_link', 'seal_num', 'entity_type', 'entity_type_loc_id', 'entity_type_loc_name', 'index_to', 'index_from', 'mass', 'document_form'])"
   ]
  },
  {
   "cell_type": "code",
   "execution_count": 3,
   "metadata": {
    "collapsed": false
   },
   "outputs": [],
   "source": [
    "addrs = pd.read_csv('addrs_sample9.tar.gz', sep='\\t', dtype=str, encoding='utf-8', parse_dates=['create_date_time'], error_bad_lines=False, compression='gzip', names=['bar_code', 'create_date_time', 'index_from', 'index_to', 'trans_type', 'mail_type', 'mail_ctg', 'mail_rank', 'send_ctg', 'post_mark', 'sndr', 'rcpn', 'recv_address.index', 'recv_address.address.place', 'recv_address.address.street', 'recv_address.address.house.value', 'recv_address.address.house.letter', 'recv_address.address.house.slash', 'recv_address.address.house.corpus', 'recv_address.address.house.building', 'recv_address.address.house.room', 'recv_phone'])"
   ]
  },
  {
   "cell_type": "code",
   "execution_count": 4,
   "metadata": {
    "collapsed": false
   },
   "outputs": [],
   "source": [
    "delivered = (events['oper_type'] == '2')\n",
    "returned = events['oper_type'].isin(['3','12'])\n",
    "lost = events['oper_type'].isin(['7','15','6'])\n",
    "events['status'] = 0 # unknown\n",
    "events.loc[delivered,'status'] = 1 # delivered\n",
    "events.loc[returned,'status'] = 2 # returned\n",
    "events.loc[lost,'status'] = 3 # lost"
   ]
  },
  {
   "cell_type": "code",
   "execution_count": 5,
   "metadata": {
    "collapsed": false
   },
   "outputs": [
    {
     "data": {
      "text/plain": [
       "<Container object of 24 artists>"
      ]
     },
     "execution_count": 5,
     "metadata": {},
     "output_type": "execute_result"
    },
    {
     "data": {
      "image/png": "[encoded data removed]",
      "text/plain": [
       "<matplotlib.figure.Figure at 0x10d1b6e90>"
      ]
     },
     "metadata": {},
     "output_type": "display_data"
    }
   ],
   "source": [
    "counts = events[events['oper_type'] == '2']['oper_date_time_msk'].dt.hour.value_counts(sort=False)\n",
    "plt.bar(counts.index,counts)"
   ]
  },
  {
   "cell_type": "code",
   "execution_count": 6,
   "metadata": {
    "collapsed": false
   },
   "outputs": [
    {
     "data": {
      "text/plain": [
       "0    6444149\n",
       "2     125744\n",
       "1     118643\n",
       "3      38662\n",
       "Name: status, dtype: int64"
      ]
     },
     "execution_count": 6,
     "metadata": {},
     "output_type": "execute_result"
    }
   ],
   "source": [
    "events['status'].value_counts()"
   ]
  },
  {
   "cell_type": "code",
   "execution_count": 7,
   "metadata": {
    "collapsed": false
   },
   "outputs": [],
   "source": [
    "clean_addrs = addrs.drop(['sndr', 'rcpn', 'recv_phone', 'recv_address.address.house.room', 'recv_address.address.house.value', 'recv_address.address.street', 'recv_address.address.place', 'index_from', 'index_to', 'recv_address.address.house.letter', 'recv_address.address.house.slash', 'recv_address.address.house.corpus', 'recv_address.address.house.building'], axis=1).fillna(0)"
   ]
  },
  {
   "cell_type": "code",
   "execution_count": 8,
   "metadata": {
    "collapsed": false
   },
   "outputs": [],
   "source": [
    "clean_addrs = clean_addrs[clean_addrs['recv_address.index'].str.len() == 6]"
   ]
  },
  {
   "cell_type": "code",
   "execution_count": 9,
   "metadata": {
    "collapsed": false
   },
   "outputs": [],
   "source": [
    "clean_addrs['trans_type'] = clean_addrs['trans_type'].astype(np.int32)\n",
    "clean_addrs['mail_type'] = clean_addrs['mail_type'].astype(np.int32)\n",
    "clean_addrs['mail_ctg'] = clean_addrs['mail_ctg'].astype(np.int32)\n",
    "clean_addrs['mail_rank'] = clean_addrs['mail_rank'].astype(np.int32)\n",
    "clean_addrs['send_ctg'] = clean_addrs['send_ctg'].astype(np.int32)\n",
    "clean_addrs['post_mark'] = clean_addrs['post_mark'].astype(np.int32)\n",
    "clean_addrs['recv_address.index'] = clean_addrs['recv_address.index'].astype(np.int32)\n",
    "clean_addrs = clean_addrs.add_prefix('info_')"
   ]
  },
  {
   "cell_type": "code",
   "execution_count": 10,
   "metadata": {
    "collapsed": true
   },
   "outputs": [],
   "source": [
    "clean_events = events[['bar_code', 'oper_date_time', 'oper_date_time_local', 'oper_date_time_msk', 'index_oper', 'entity_type', 'entity_type_loc_id', 'mass', 'status']]"
   ]
  },
  {
   "cell_type": "code",
   "execution_count": 11,
   "metadata": {
    "collapsed": false
   },
   "outputs": [],
   "source": [
    "clean_events = clean_events[clean_events['index_oper'].str.isnumeric() == True]"
   ]
  },
  {
   "cell_type": "code",
   "execution_count": 12,
   "metadata": {
    "collapsed": false
   },
   "outputs": [],
   "source": [
    "clean_events_num = clean_events[clean_events['status'].isin([1,2,3])].fillna(0)"
   ]
  },
  {
   "cell_type": "code",
   "execution_count": 13,
   "metadata": {
    "collapsed": false
   },
   "outputs": [],
   "source": [
    "clean_events_num['index_oper'] = clean_events_num['index_oper'].astype(np.int32)\n",
    "clean_events_num['entity_type'] = clean_events_num['entity_type'].astype(np.int32)\n",
    "clean_events_num['entity_type_loc_id'] = clean_events_num['entity_type_loc_id'].astype(np.int32)\n",
    "clean_events_num['mass'] = clean_events_num['mass'].astype(np.int32)"
   ]
  },
  {
   "cell_type": "code",
   "execution_count": 14,
   "metadata": {
    "collapsed": false
   },
   "outputs": [],
   "source": [
    "df = clean_events_num.join(clean_addrs, )"
   ]
  },
  {
   "cell_type": "code",
   "execution_count": 15,
   "metadata": {
    "collapsed": false
   },
   "outputs": [],
   "source": [
    "df = df[df['oper_date_time'].dt.year >= 2016]"
   ]
  },
  {
   "cell_type": "code",
   "execution_count": 16,
   "metadata": {
    "collapsed": false
   },
   "outputs": [],
   "source": [
    "df = df.drop(['bar_code', 'oper_date_time', 'oper_date_time_local', 'oper_date_time_msk', 'info_bar_code', 'info_create_date_time'], axis=1)"
   ]
  },
  {
   "cell_type": "code",
   "execution_count": 17,
   "metadata": {
    "collapsed": false
   },
   "outputs": [],
   "source": [
    "from sklearn.cross_validation import train_test_split\n",
    "import xgboost as xgb"
   ]
  },
  {
   "cell_type": "code",
   "execution_count": 18,
   "metadata": {
    "collapsed": false
   },
   "outputs": [],
   "source": [
    "X = df.drop(['status'], axis=1)\n",
    "Y = df['status']"
   ]
  },
  {
   "cell_type": "code",
   "execution_count": 19,
   "metadata": {
    "collapsed": false
   },
   "outputs": [],
   "source": [
    "X_train, X_test, y_train, y_test = train_test_split(X, Y, test_size=0.33, random_state=7)"
   ]
  },
  {
   "cell_type": "code",
   "execution_count": 49,
   "metadata": {
    "collapsed": false
   },
   "outputs": [],
   "source": [
    "model = xgb.XGBClassifier(learning_rate=0.1, base_score=0.5, max_depth=3, subsample=0.1, colsample_bytree=0.9, seed=111)"
   ]
  },
  {
   "cell_type": "code",
   "execution_count": 50,
   "metadata": {
    "collapsed": false
   },
   "outputs": [
    {
     "data": {
      "text/plain": [
       "XGBClassifier(base_score=0.5, colsample_bylevel=1, colsample_bytree=0.9,\n",
       "       gamma=0, learning_rate=0.1, max_delta_step=0, max_depth=3,\n",
       "       min_child_weight=1, missing=None, n_estimators=100, nthread=-1,\n",
       "       objective='multi:softprob', reg_alpha=0, reg_lambda=1,\n",
       "       scale_pos_weight=1, seed=111, silent=True, subsample=0.1)"
      ]
     },
     "execution_count": 50,
     "metadata": {},
     "output_type": "execute_result"
    }
   ],
   "source": [
    "model.fit(X_train, y_train, verbose=True)"
   ]
  },
  {
   "cell_type": "code",
   "execution_count": 51,
   "metadata": {
    "collapsed": true
   },
   "outputs": [],
   "source": [
    "y_pred = model.predict(X_test)"
   ]
  },
  {
   "cell_type": "code",
   "execution_count": 52,
   "metadata": {
    "collapsed": true
   },
   "outputs": [],
   "source": [
    "predictions = [round(value) for value in y_pred]"
   ]
  },
  {
   "cell_type": "code",
   "execution_count": 53,
   "metadata": {
    "collapsed": false
   },
   "outputs": [],
   "source": [
    "from sklearn.metrics import accuracy_score\n",
    "accuracy = accuracy_score(y_test, predictions)"
   ]
  },
  {
   "cell_type": "code",
   "execution_count": 54,
   "metadata": {
    "collapsed": false
   },
   "outputs": [
    {
     "name": "stdout",
     "output_type": "stream",
     "text": [
      "Accuracy: 56.53%\n"
     ]
    }
   ],
   "source": [
    "print(\"Accuracy: %.2f%%\" % (accuracy * 100.0))"
   ]
  },
  {
   "cell_type": "code",
   "execution_count": null,
   "metadata": {
    "collapsed": true
   },
   "outputs": [],
   "source": []
  }
 ],
 "metadata": {
  "kernelspec": {
   "display_name": "Python 2",
   "language": "python",
   "name": "python2"
  },
  "language_info": {
   "codemirror_mode": {
    "name": "ipython",
    "version": 2
   },
   "file_extension": ".py",
   "mimetype": "text/x-python",
   "name": "python",
   "nbconvert_exporter": "python",
   "pygments_lexer": "ipython2",
   "version": "2.7.10"
  }
 },
 "nbformat": 4,
 "nbformat_minor": 0
}
