{
 "cells": [
  {
   "cell_type": "code",
   "execution_count": 1,
   "metadata": {
    "collapsed": false
   },
   "outputs": [],
   "source": [
    "import pandas as pd\n",
    "import numpy as np\n",
    "\n",
    "%matplotlib inline\n",
    "import matplotlib.pyplot as plt"
   ]
  },
  {
   "cell_type": "code",
   "execution_count": 2,
   "metadata": {
    "collapsed": false
   },
   "outputs": [],
   "source": [
    "addrs = pd.read_csv('addresses.csv', sep='\\t', dtype=str, encoding='utf-8')"
   ]
  },
  {
   "cell_type": "code",
   "execution_count": 3,
   "metadata": {
    "collapsed": false
   },
   "outputs": [
    {
     "data": {
      "text/html": [
       "<div>\n",
       "<table border=\"1\" class=\"dataframe\">\n",
       "  <thead>\n",
       "    <tr style=\"text-align: right;\">\n",
       "      <th></th>\n",
       "      <th>addresses.barcode</th>\n",
       "      <th>addresses.index</th>\n",
       "      <th>addresses.rcpn</th>\n",
       "      <th>addresses.city</th>\n",
       "      <th>addresses.street</th>\n",
       "      <th>addresses.house</th>\n",
       "      <th>addresses.letter</th>\n",
       "      <th>addresses.slash</th>\n",
       "      <th>addresses.corpus</th>\n",
       "      <th>addresses.building</th>\n",
       "      <th>addresses.room</th>\n",
       "    </tr>\n",
       "  </thead>\n",
       "  <tbody>\n",
       "    <tr>\n",
       "      <th>0</th>\n",
       "      <td>10100089798038</td>\n",
       "      <td>107014</td>\n",
       "      <td>NaN</td>\n",
       "      <td>МОСКВА Г.</td>\n",
       "      <td>ПОПОВ ПРОЕЗД</td>\n",
       "      <td>4</td>\n",
       "      <td>NaN</td>\n",
       "      <td>NaN</td>\n",
       "      <td>NaN</td>\n",
       "      <td>NaN</td>\n",
       "      <td>5 КВ.</td>\n",
       "    </tr>\n",
       "    <tr>\n",
       "      <th>1</th>\n",
       "      <td>10176701022522</td>\n",
       "      <td>404110</td>\n",
       "      <td>Шайкина Елена Николаевна(49755)</td>\n",
       "      <td>ВОЛЖСКИЙ</td>\n",
       "      <td>Космонавтов</td>\n",
       "      <td>16</td>\n",
       "      <td>б</td>\n",
       "      <td>NaN</td>\n",
       "      <td>NaN</td>\n",
       "      <td>NaN</td>\n",
       "      <td>15</td>\n",
       "    </tr>\n",
       "    <tr>\n",
       "      <th>2</th>\n",
       "      <td>10176801715089</td>\n",
       "      <td>107031</td>\n",
       "      <td>NaN</td>\n",
       "      <td>МОСКВА Г.</td>\n",
       "      <td>РОЖДЕСТВЕНКА</td>\n",
       "      <td>5/7 стр2</td>\n",
       "      <td>NaN</td>\n",
       "      <td>NaN</td>\n",
       "      <td>NaN</td>\n",
       "      <td>NaN</td>\n",
       "      <td>ком18</td>\n",
       "    </tr>\n",
       "    <tr>\n",
       "      <th>3</th>\n",
       "      <td>10176802455250</td>\n",
       "      <td>105005</td>\n",
       "      <td>NaN</td>\n",
       "      <td>МОСКВА Г.</td>\n",
       "      <td>БАКУНИНСКАЯ УЛ.</td>\n",
       "      <td>4 /6   СТР.1</td>\n",
       "      <td>NaN</td>\n",
       "      <td>NaN</td>\n",
       "      <td>NaN</td>\n",
       "      <td>NaN</td>\n",
       "      <td>5 КВ.</td>\n",
       "    </tr>\n",
       "  </tbody>\n",
       "</table>\n",
       "</div>"
      ],
      "text/plain": [
       "  addresses.barcode addresses.index                   addresses.rcpn  \\\n",
       "0    10100089798038          107014                              NaN   \n",
       "1    10176701022522          404110  Шайкина Елена Николаевна(49755)   \n",
       "2    10176801715089          107031                              NaN   \n",
       "3    10176802455250          105005                              NaN   \n",
       "\n",
       "  addresses.city addresses.street addresses.house addresses.letter  \\\n",
       "0      МОСКВА Г.     ПОПОВ ПРОЕЗД               4              NaN   \n",
       "1       ВОЛЖСКИЙ      Космонавтов              16                б   \n",
       "2      МОСКВА Г.     РОЖДЕСТВЕНКА        5/7 стр2              NaN   \n",
       "3      МОСКВА Г.  БАКУНИНСКАЯ УЛ.    4 /6   СТР.1              NaN   \n",
       "\n",
       "  addresses.slash addresses.corpus addresses.building addresses.room  \n",
       "0             NaN              NaN                NaN          5 КВ.  \n",
       "1             NaN              NaN                NaN             15  \n",
       "2             NaN              NaN                NaN          ком18  \n",
       "3             NaN              NaN                NaN          5 КВ.  "
      ]
     },
     "execution_count": 3,
     "metadata": {},
     "output_type": "execute_result"
    }
   ],
   "source": [
    "addrs.head(4)"
   ]
  },
  {
   "cell_type": "code",
   "execution_count": 4,
   "metadata": {
    "collapsed": false
   },
   "outputs": [],
   "source": [
    "cities = addrs['addresses.city'].value_counts()"
   ]
  },
  {
   "cell_type": "code",
   "execution_count": 5,
   "metadata": {
    "collapsed": false
   },
   "outputs": [
    {
     "data": {
      "text/plain": [
       "<matplotlib.axes._subplots.AxesSubplot at 0x7fd1b7adb588>"
      ]
     },
     "execution_count": 5,
     "metadata": {},
     "output_type": "execute_result"
    },
    {
     "data": {
      "image/png": "[encoded data removed]",
      "text/plain": [
       "<matplotlib.figure.Figure at 0x7fd1b7abac50>"
      ]
     },
     "metadata": {},
     "output_type": "display_data"
    }
   ],
   "source": [
    "cities[:20].plot(kind='barh', rot=0)"
   ]
  },
  {
   "cell_type": "code",
   "execution_count": 6,
   "metadata": {
    "collapsed": false
   },
   "outputs": [],
   "source": [
    "addrs.fillna(value=\"\", inplace=True)"
   ]
  },
  {
   "cell_type": "code",
   "execution_count": 7,
   "metadata": {
    "collapsed": false
   },
   "outputs": [],
   "source": [
    "addrs[\"address\"] = addrs[\"addresses.index\"].str.cat([addrs[\"addresses.city\"], addrs[\"addresses.street\"], addrs[\"addresses.house\"], addrs[\"addresses.letter\"], addrs[\"addresses.slash\"], addrs[\"addresses.corpus\"], addrs[\"addresses.building\"], addrs[\"addresses.room\"]], sep=\" \")"
   ]
  },
  {
   "cell_type": "code",
   "execution_count": 8,
   "metadata": {
    "collapsed": false
   },
   "outputs": [],
   "source": [
    "clean_addrs = addrs[[\"addresses.barcode\", \"addresses.index\", \"addresses.rcpn\", \"address\"]]"
   ]
  },
  {
   "cell_type": "code",
   "execution_count": 9,
   "metadata": {
    "collapsed": false
   },
   "outputs": [
    {
     "data": {
      "text/html": [
       "<div>\n",
       "<table border=\"1\" class=\"dataframe\">\n",
       "  <thead>\n",
       "    <tr style=\"text-align: right;\">\n",
       "      <th></th>\n",
       "      <th>addresses.barcode</th>\n",
       "      <th>addresses.index</th>\n",
       "      <th>addresses.rcpn</th>\n",
       "      <th>address</th>\n",
       "    </tr>\n",
       "  </thead>\n",
       "  <tbody>\n",
       "    <tr>\n",
       "      <th>0</th>\n",
       "      <td>10100089798038</td>\n",
       "      <td>107014</td>\n",
       "      <td></td>\n",
       "      <td>107014 МОСКВА Г. ПОПОВ ПРОЕЗД 4     5 КВ.</td>\n",
       "    </tr>\n",
       "    <tr>\n",
       "      <th>1</th>\n",
       "      <td>10176701022522</td>\n",
       "      <td>404110</td>\n",
       "      <td>Шайкина Елена Николаевна(49755)</td>\n",
       "      <td>404110 ВОЛЖСКИЙ Космонавтов 16 б    15</td>\n",
       "    </tr>\n",
       "    <tr>\n",
       "      <th>2</th>\n",
       "      <td>10176801715089</td>\n",
       "      <td>107031</td>\n",
       "      <td></td>\n",
       "      <td>107031 МОСКВА Г. РОЖДЕСТВЕНКА 5/7 стр2     ком18</td>\n",
       "    </tr>\n",
       "    <tr>\n",
       "      <th>3</th>\n",
       "      <td>10176802455250</td>\n",
       "      <td>105005</td>\n",
       "      <td></td>\n",
       "      <td>105005 МОСКВА Г. БАКУНИНСКАЯ УЛ. 4 /6   СТР.1 ...</td>\n",
       "    </tr>\n",
       "    <tr>\n",
       "      <th>4</th>\n",
       "      <td>10176804245521</td>\n",
       "      <td>142117</td>\n",
       "      <td></td>\n",
       "      <td>142117 Подольск 0 0 0  0 0 0</td>\n",
       "    </tr>\n",
       "    <tr>\n",
       "      <th>5</th>\n",
       "      <td>10176804631270</td>\n",
       "      <td>354395</td>\n",
       "      <td>АШИКАРЬЯН А Д</td>\n",
       "      <td>354395 Сочи 0 0 0  0 0 0</td>\n",
       "    </tr>\n",
       "    <tr>\n",
       "      <th>6</th>\n",
       "      <td>10178402505663</td>\n",
       "      <td>117105</td>\n",
       "      <td>Редичеву А.В.</td>\n",
       "      <td>117105  Варшавское шоссе  2</td>\n",
       "    </tr>\n",
       "    <tr>\n",
       "      <th>7</th>\n",
       "      <td>10178403439813</td>\n",
       "      <td>107076</td>\n",
       "      <td>БЕКЕТОВ В С</td>\n",
       "      <td>107076 МОСКВА Г. КРАСНОБОГАТЫРСКАЯ УЛ. 75 К.1 ...</td>\n",
       "    </tr>\n",
       "    <tr>\n",
       "      <th>8</th>\n",
       "      <td>10307096009182</td>\n",
       "      <td>400112</td>\n",
       "      <td>ВАСИЛЬЕВА Л</td>\n",
       "      <td>400112 ВОЛГОГРАД Г. ИМ. АРСЕНЬЕВА УЛ. 4     3 КВ.</td>\n",
       "    </tr>\n",
       "    <tr>\n",
       "      <th>9</th>\n",
       "      <td>10506404095521</td>\n",
       "      <td>141401</td>\n",
       "      <td>ЧЕЛПАНОВУ А В</td>\n",
       "      <td>141401 ХИМКИ Г. БЕРЕЗОВАЯ АЛЛЕЯ ПР. 3     161 КВ.</td>\n",
       "    </tr>\n",
       "  </tbody>\n",
       "</table>\n",
       "</div>"
      ],
      "text/plain": [
       "  addresses.barcode addresses.index                   addresses.rcpn  \\\n",
       "0    10100089798038          107014                                    \n",
       "1    10176701022522          404110  Шайкина Елена Николаевна(49755)   \n",
       "2    10176801715089          107031                                    \n",
       "3    10176802455250          105005                                    \n",
       "4    10176804245521          142117                                    \n",
       "5    10176804631270          354395                    АШИКАРЬЯН А Д   \n",
       "6    10178402505663          117105                    Редичеву А.В.   \n",
       "7    10178403439813          107076                      БЕКЕТОВ В С   \n",
       "8    10307096009182          400112                      ВАСИЛЬЕВА Л   \n",
       "9    10506404095521          141401                    ЧЕЛПАНОВУ А В   \n",
       "\n",
       "                                             address  \n",
       "0          107014 МОСКВА Г. ПОПОВ ПРОЕЗД 4     5 КВ.  \n",
       "1             404110 ВОЛЖСКИЙ Космонавтов 16 б    15  \n",
       "2   107031 МОСКВА Г. РОЖДЕСТВЕНКА 5/7 стр2     ком18  \n",
       "3  105005 МОСКВА Г. БАКУНИНСКАЯ УЛ. 4 /6   СТР.1 ...  \n",
       "4                       142117 Подольск 0 0 0  0 0 0  \n",
       "5                           354395 Сочи 0 0 0  0 0 0  \n",
       "6                    117105  Варшавское шоссе  2      \n",
       "7  107076 МОСКВА Г. КРАСНОБОГАТЫРСКАЯ УЛ. 75 К.1 ...  \n",
       "8  400112 ВОЛГОГРАД Г. ИМ. АРСЕНЬЕВА УЛ. 4     3 КВ.  \n",
       "9  141401 ХИМКИ Г. БЕРЕЗОВАЯ АЛЛЕЯ ПР. 3     161 КВ.  "
      ]
     },
     "execution_count": 9,
     "metadata": {},
     "output_type": "execute_result"
    }
   ],
   "source": [
    "clean_addrs.head(10)"
   ]
  },
  {
   "cell_type": "code",
   "execution_count": 10,
   "metadata": {
    "collapsed": false
   },
   "outputs": [],
   "source": [
    "from postal.expand import expand_address\n",
    "from postal.parser import parse_address"
   ]
  },
  {
   "cell_type": "code",
   "execution_count": 11,
   "metadata": {
    "collapsed": false
   },
   "outputs": [
    {
     "name": "stderr",
     "output_type": "stream",
     "text": [
      "/home/ponkin/Dev/notebooks/addresses/lib/python3.5/site-packages/ipykernel/__main__.py:1: SettingWithCopyWarning: \n",
      "A value is trying to be set on a copy of a slice from a DataFrame.\n",
      "Try using .loc[row_indexer,col_indexer] = value instead\n",
      "\n",
      "See the caveats in the documentation: http://pandas.pydata.org/pandas-docs/stable/indexing.html#indexing-view-versus-copy\n",
      "  if __name__ == '__main__':\n"
     ]
    }
   ],
   "source": [
    "clean_addrs['clean_address'] = clean_addrs[\"address\"].map(lambda a: expand_address(a)[0], na_action='ignore')"
   ]
  },
  {
   "cell_type": "code",
   "execution_count": 13,
   "metadata": {
    "collapsed": false
   },
   "outputs": [
    {
     "data": {
      "text/html": [
       "<div>\n",
       "<table border=\"1\" class=\"dataframe\">\n",
       "  <thead>\n",
       "    <tr style=\"text-align: right;\">\n",
       "      <th></th>\n",
       "      <th>addresses.barcode</th>\n",
       "      <th>addresses.index</th>\n",
       "      <th>addresses.rcpn</th>\n",
       "      <th>address</th>\n",
       "      <th>clean_address</th>\n",
       "    </tr>\n",
       "  </thead>\n",
       "  <tbody>\n",
       "    <tr>\n",
       "      <th>0</th>\n",
       "      <td>10100089798038</td>\n",
       "      <td>107014</td>\n",
       "      <td></td>\n",
       "      <td>107014 МОСКВА Г. ПОПОВ ПРОЕЗД 4     5 КВ.</td>\n",
       "      <td>107014 москва г попов проезд 4 5 квартира</td>\n",
       "    </tr>\n",
       "    <tr>\n",
       "      <th>1</th>\n",
       "      <td>10176701022522</td>\n",
       "      <td>404110</td>\n",
       "      <td>Шайкина Елена Николаевна(49755)</td>\n",
       "      <td>404110 ВОЛЖСКИЙ Космонавтов 16 б    15</td>\n",
       "      <td>404110 волжскии космонавтов 16 б 15</td>\n",
       "    </tr>\n",
       "    <tr>\n",
       "      <th>2</th>\n",
       "      <td>10176801715089</td>\n",
       "      <td>107031</td>\n",
       "      <td></td>\n",
       "      <td>107031 МОСКВА Г. РОЖДЕСТВЕНКА 5/7 стр2     ком18</td>\n",
       "      <td>107031 москва г рождественка 5 7 стр2 ком18</td>\n",
       "    </tr>\n",
       "    <tr>\n",
       "      <th>3</th>\n",
       "      <td>10176802455250</td>\n",
       "      <td>105005</td>\n",
       "      <td></td>\n",
       "      <td>105005 МОСКВА Г. БАКУНИНСКАЯ УЛ. 4 /6   СТР.1 ...</td>\n",
       "      <td>105005 москва г бакунинская улица 4 6 стр.1 5 ...</td>\n",
       "    </tr>\n",
       "    <tr>\n",
       "      <th>4</th>\n",
       "      <td>10176804245521</td>\n",
       "      <td>142117</td>\n",
       "      <td></td>\n",
       "      <td>142117 Подольск 0 0 0  0 0 0</td>\n",
       "      <td>142117 подольск 0 0 0 0 0 0</td>\n",
       "    </tr>\n",
       "  </tbody>\n",
       "</table>\n",
       "</div>"
      ],
      "text/plain": [
       "  addresses.barcode addresses.index                   addresses.rcpn  \\\n",
       "0    10100089798038          107014                                    \n",
       "1    10176701022522          404110  Шайкина Елена Николаевна(49755)   \n",
       "2    10176801715089          107031                                    \n",
       "3    10176802455250          105005                                    \n",
       "4    10176804245521          142117                                    \n",
       "\n",
       "                                             address  \\\n",
       "0          107014 МОСКВА Г. ПОПОВ ПРОЕЗД 4     5 КВ.   \n",
       "1             404110 ВОЛЖСКИЙ Космонавтов 16 б    15   \n",
       "2   107031 МОСКВА Г. РОЖДЕСТВЕНКА 5/7 стр2     ком18   \n",
       "3  105005 МОСКВА Г. БАКУНИНСКАЯ УЛ. 4 /6   СТР.1 ...   \n",
       "4                       142117 Подольск 0 0 0  0 0 0   \n",
       "\n",
       "                                       clean_address  \n",
       "0          107014 москва г попов проезд 4 5 квартира  \n",
       "1                404110 волжскии космонавтов 16 б 15  \n",
       "2        107031 москва г рождественка 5 7 стр2 ком18  \n",
       "3  105005 москва г бакунинская улица 4 6 стр.1 5 ...  \n",
       "4                        142117 подольск 0 0 0 0 0 0  "
      ]
     },
     "execution_count": 13,
     "metadata": {},
     "output_type": "execute_result"
    }
   ],
   "source": [
    "clean_addrs.head(5)"
   ]
  },
  {
   "cell_type": "code",
   "execution_count": 14,
   "metadata": {
    "collapsed": false
   },
   "outputs": [],
   "source": [
    "final_addrs = clean_addrs[[\"addresses.barcode\", \"clean_address\"]]"
   ]
  },
  {
   "cell_type": "code",
   "execution_count": null,
   "metadata": {
    "collapsed": true
   },
   "outputs": [],
   "source": [
    "final_addrs['clean_address'].value_counts()"
   ]
  },
  {
   "cell_type": "code",
   "execution_count": null,
   "metadata": {
    "collapsed": true
   },
   "outputs": [],
   "source": []
  }
 ],
 "metadata": {
  "kernelspec": {
   "display_name": "Python 3",
   "language": "python",
   "name": "python3"
  },
  "language_info": {
   "codemirror_mode": {
    "name": "ipython",
    "version": 3
   },
   "file_extension": ".py",
   "mimetype": "text/x-python",
   "name": "python",
   "nbconvert_exporter": "python",
   "pygments_lexer": "ipython3",
   "version": "3.6.0"
  }
 },
 "nbformat": 4,
 "nbformat_minor": 2
}
