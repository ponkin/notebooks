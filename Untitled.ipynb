{
 "cells": [
  {
   "cell_type": "code",
   "execution_count": 1,
   "metadata": {
    "collapsed": false,
    "deletable": true,
    "editable": true,
    "scrolled": true
   },
   "outputs": [
    {
     "name": "stderr",
     "output_type": "stream",
     "text": [
      "/Users/ponkin/Development/kaggle/bike_sharing/notebook/lib/python3.5/site-packages/sklearn/cross_validation.py:44: DeprecationWarning: This module was deprecated in version 0.18 in favor of the model_selection module into which all the refactored classes and functions are moved. Also note that the interface of the new CV iterators are different from that of this module. This module will be removed in 0.20.\n",
      "  \"This module will be removed in 0.20.\", DeprecationWarning)\n"
     ]
    }
   ],
   "source": [
    "from sklearn import preprocessing\n",
    "from sklearn import cross_validation\n",
    "from sklearn import svm\n",
    "\n",
    "import pandas as pd\n",
    "import numpy as np\n",
    "\n",
    "%matplotlib inline\n",
    "import matplotlib.pyplot as plt"
   ]
  },
  {
   "cell_type": "code",
   "execution_count": 2,
   "metadata": {
    "collapsed": false,
    "deletable": true,
    "editable": true,
    "scrolled": true
   },
   "outputs": [],
   "source": [
    "credits_train = pd.read_csv('credit_train.csv.zip', compression='zip', sep=';', encoding='cp1251', decimal=',', index_col = 'client_id')\n",
    "credits_test = pd.read_csv('credit_test.csv.zip', compression='zip', sep=';', encoding='cp1251', decimal=',', index_col = 'client_id')"
   ]
  },
  {
   "cell_type": "markdown",
   "metadata": {
    "deletable": true,
    "editable": true
   },
   "source": [
    "#Encode living region(Moscow, SaintP, Others)"
   ]
  },
  {
   "cell_type": "code",
   "execution_count": 3,
   "metadata": {
    "collapsed": false,
    "deletable": true,
    "editable": true,
    "scrolled": true
   },
   "outputs": [],
   "source": [
    "credits_train['region'] = 'O'\n",
    "credits_train.ix[credits_train['living_region'].fillna('').str.contains(pat='санкт', case=False), 'region'] = 'S'\n",
    "credits_train.ix[credits_train['living_region'].fillna('').str.contains(pat='москва', case=False), 'region'] = 'M'\n",
    "\n",
    "credits_test['region'] = 'O'\n",
    "credits_test.ix[credits_test['living_region'].fillna('').str.contains(pat='санкт', case=False), 'region'] = 'S'\n",
    "credits_test.ix[credits_test['living_region'].fillna('').str.contains(pat='москва', case=False), 'region'] = 'M'\n"
   ]
  },
  {
   "cell_type": "markdown",
   "metadata": {
    "deletable": true,
    "editable": true
   },
   "source": [
    "# Encode categorical features"
   ]
  },
  {
   "cell_type": "code",
   "execution_count": 4,
   "metadata": {
    "collapsed": false,
    "deletable": true,
    "editable": true,
    "scrolled": true
   },
   "outputs": [],
   "source": [
    "credits_test['open_account_flg'] = np.NaN\n",
    "data = pd.concat([credits_train, credits_test])\n",
    "\n",
    "enc = data[['gender', 'marital_status', 'job_position', 'tariff_id', 'education', 'region']].apply(lambda x: preprocessing.LabelEncoder().fit(x))\n",
    "\n",
    "labled_train = pd.concat([\n",
    "   pd.DataFrame(enc['tariff_id'].transform(credits_train['tariff_id']), columns=['tariff_id']),\n",
    "   pd.DataFrame(enc['gender'].transform(credits_train['gender']), columns=['gender']),\n",
    "   pd.DataFrame(enc['marital_status'].transform(credits_train['marital_status']), columns=['marital_status']),\n",
    "   pd.DataFrame(enc['job_position'].transform(credits_train['job_position']), columns=['job_position']),\n",
    "   pd.DataFrame(enc['education'].transform(credits_train['education']), columns=['education']), \n",
    "   pd.DataFrame(enc['region'].transform(credits_train['region']), columns=['region'])],  axis=1)\n",
    "labeled_test = pd.concat([\n",
    "   pd.DataFrame(enc['tariff_id'].transform(credits_test['tariff_id']), columns=['tariff_id']),\n",
    "   pd.DataFrame(enc['gender'].transform(credits_test['gender']), columns=['gender']),\n",
    "   pd.DataFrame(enc['marital_status'].transform(credits_test['marital_status']), columns=['marital_status']),\n",
    "   pd.DataFrame(enc['job_position'].transform(credits_test['job_position']), columns=['job_position']),\n",
    "   pd.DataFrame(enc['education'].transform(credits_test['education']), columns=['education']),\n",
    "   pd.DataFrame(enc['region'].transform(credits_test['region']), columns=['region'])], axis=1)\n",
    "labeled_data = pd.concat([labled_train, labeled_test])\n",
    "\n",
    "ohe = preprocessing.OneHotEncoder()\n",
    "ohe.fit(labeled_data.as_matrix())\n",
    "\n",
    "cat_train = pd.DataFrame(ohe.transform(labled_train).toarray())\n",
    "cat_test = pd.DataFrame(ohe.transform(labeled_test).toarray())\n"
   ]
  },
  {
   "cell_type": "code",
   "execution_count": 5,
   "metadata": {
    "collapsed": false,
    "deletable": true,
    "editable": true,
    "scrolled": true
   },
   "outputs": [
    {
     "name": "stderr",
     "output_type": "stream",
     "text": [
      "/Users/ponkin/Development/kaggle/bike_sharing/notebook/lib/python3.5/site-packages/sklearn/preprocessing/data.py:321: DeprecationWarning: Passing 1d arrays as data is deprecated in 0.17 and will raise ValueError in 0.19. Reshape your data either using X.reshape(-1, 1) if your data has a single feature or X.reshape(1, -1) if it contains a single sample.\n",
      "  warnings.warn(DEPRECATION_MSG_1D, DeprecationWarning)\n",
      "/Users/ponkin/Development/kaggle/bike_sharing/notebook/lib/python3.5/site-packages/sklearn/preprocessing/data.py:321: DeprecationWarning: Passing 1d arrays as data is deprecated in 0.17 and will raise ValueError in 0.19. Reshape your data either using X.reshape(-1, 1) if your data has a single feature or X.reshape(1, -1) if it contains a single sample.\n",
      "  warnings.warn(DEPRECATION_MSG_1D, DeprecationWarning)\n",
      "/Users/ponkin/Development/kaggle/bike_sharing/notebook/lib/python3.5/site-packages/sklearn/preprocessing/data.py:321: DeprecationWarning: Passing 1d arrays as data is deprecated in 0.17 and will raise ValueError in 0.19. Reshape your data either using X.reshape(-1, 1) if your data has a single feature or X.reshape(1, -1) if it contains a single sample.\n",
      "  warnings.warn(DEPRECATION_MSG_1D, DeprecationWarning)\n",
      "/Users/ponkin/Development/kaggle/bike_sharing/notebook/lib/python3.5/site-packages/sklearn/preprocessing/data.py:321: DeprecationWarning: Passing 1d arrays as data is deprecated in 0.17 and will raise ValueError in 0.19. Reshape your data either using X.reshape(-1, 1) if your data has a single feature or X.reshape(1, -1) if it contains a single sample.\n",
      "  warnings.warn(DEPRECATION_MSG_1D, DeprecationWarning)\n",
      "/Users/ponkin/Development/kaggle/bike_sharing/notebook/lib/python3.5/site-packages/sklearn/preprocessing/data.py:321: DeprecationWarning: Passing 1d arrays as data is deprecated in 0.17 and will raise ValueError in 0.19. Reshape your data either using X.reshape(-1, 1) if your data has a single feature or X.reshape(1, -1) if it contains a single sample.\n",
      "  warnings.warn(DEPRECATION_MSG_1D, DeprecationWarning)\n",
      "/Users/ponkin/Development/kaggle/bike_sharing/notebook/lib/python3.5/site-packages/sklearn/preprocessing/data.py:321: DeprecationWarning: Passing 1d arrays as data is deprecated in 0.17 and will raise ValueError in 0.19. Reshape your data either using X.reshape(-1, 1) if your data has a single feature or X.reshape(1, -1) if it contains a single sample.\n",
      "  warnings.warn(DEPRECATION_MSG_1D, DeprecationWarning)\n",
      "/Users/ponkin/Development/kaggle/bike_sharing/notebook/lib/python3.5/site-packages/sklearn/preprocessing/data.py:321: DeprecationWarning: Passing 1d arrays as data is deprecated in 0.17 and will raise ValueError in 0.19. Reshape your data either using X.reshape(-1, 1) if your data has a single feature or X.reshape(1, -1) if it contains a single sample.\n",
      "  warnings.warn(DEPRECATION_MSG_1D, DeprecationWarning)\n",
      "/Users/ponkin/Development/kaggle/bike_sharing/notebook/lib/python3.5/site-packages/sklearn/preprocessing/data.py:356: DeprecationWarning: Passing 1d arrays as data is deprecated in 0.17 and will raise ValueError in 0.19. Reshape your data either using X.reshape(-1, 1) if your data has a single feature or X.reshape(1, -1) if it contains a single sample.\n",
      "  warnings.warn(DEPRECATION_MSG_1D, DeprecationWarning)\n",
      "/Users/ponkin/Development/kaggle/bike_sharing/notebook/lib/python3.5/site-packages/sklearn/preprocessing/data.py:356: DeprecationWarning: Passing 1d arrays as data is deprecated in 0.17 and will raise ValueError in 0.19. Reshape your data either using X.reshape(-1, 1) if your data has a single feature or X.reshape(1, -1) if it contains a single sample.\n",
      "  warnings.warn(DEPRECATION_MSG_1D, DeprecationWarning)\n",
      "/Users/ponkin/Development/kaggle/bike_sharing/notebook/lib/python3.5/site-packages/sklearn/preprocessing/data.py:356: DeprecationWarning: Passing 1d arrays as data is deprecated in 0.17 and will raise ValueError in 0.19. Reshape your data either using X.reshape(-1, 1) if your data has a single feature or X.reshape(1, -1) if it contains a single sample.\n",
      "  warnings.warn(DEPRECATION_MSG_1D, DeprecationWarning)\n",
      "/Users/ponkin/Development/kaggle/bike_sharing/notebook/lib/python3.5/site-packages/sklearn/preprocessing/data.py:356: DeprecationWarning: Passing 1d arrays as data is deprecated in 0.17 and will raise ValueError in 0.19. Reshape your data either using X.reshape(-1, 1) if your data has a single feature or X.reshape(1, -1) if it contains a single sample.\n",
      "  warnings.warn(DEPRECATION_MSG_1D, DeprecationWarning)\n",
      "/Users/ponkin/Development/kaggle/bike_sharing/notebook/lib/python3.5/site-packages/sklearn/preprocessing/data.py:356: DeprecationWarning: Passing 1d arrays as data is deprecated in 0.17 and will raise ValueError in 0.19. Reshape your data either using X.reshape(-1, 1) if your data has a single feature or X.reshape(1, -1) if it contains a single sample.\n",
      "  warnings.warn(DEPRECATION_MSG_1D, DeprecationWarning)\n",
      "/Users/ponkin/Development/kaggle/bike_sharing/notebook/lib/python3.5/site-packages/sklearn/preprocessing/data.py:356: DeprecationWarning: Passing 1d arrays as data is deprecated in 0.17 and will raise ValueError in 0.19. Reshape your data either using X.reshape(-1, 1) if your data has a single feature or X.reshape(1, -1) if it contains a single sample.\n",
      "  warnings.warn(DEPRECATION_MSG_1D, DeprecationWarning)\n",
      "/Users/ponkin/Development/kaggle/bike_sharing/notebook/lib/python3.5/site-packages/sklearn/preprocessing/data.py:356: DeprecationWarning: Passing 1d arrays as data is deprecated in 0.17 and will raise ValueError in 0.19. Reshape your data either using X.reshape(-1, 1) if your data has a single feature or X.reshape(1, -1) if it contains a single sample.\n",
      "  warnings.warn(DEPRECATION_MSG_1D, DeprecationWarning)\n",
      "/Users/ponkin/Development/kaggle/bike_sharing/notebook/lib/python3.5/site-packages/sklearn/preprocessing/data.py:356: DeprecationWarning: Passing 1d arrays as data is deprecated in 0.17 and will raise ValueError in 0.19. Reshape your data either using X.reshape(-1, 1) if your data has a single feature or X.reshape(1, -1) if it contains a single sample.\n",
      "  warnings.warn(DEPRECATION_MSG_1D, DeprecationWarning)\n",
      "/Users/ponkin/Development/kaggle/bike_sharing/notebook/lib/python3.5/site-packages/sklearn/preprocessing/data.py:356: DeprecationWarning: Passing 1d arrays as data is deprecated in 0.17 and will raise ValueError in 0.19. Reshape your data either using X.reshape(-1, 1) if your data has a single feature or X.reshape(1, -1) if it contains a single sample.\n",
      "  warnings.warn(DEPRECATION_MSG_1D, DeprecationWarning)\n",
      "/Users/ponkin/Development/kaggle/bike_sharing/notebook/lib/python3.5/site-packages/sklearn/preprocessing/data.py:356: DeprecationWarning: Passing 1d arrays as data is deprecated in 0.17 and will raise ValueError in 0.19. Reshape your data either using X.reshape(-1, 1) if your data has a single feature or X.reshape(1, -1) if it contains a single sample.\n",
      "  warnings.warn(DEPRECATION_MSG_1D, DeprecationWarning)\n",
      "/Users/ponkin/Development/kaggle/bike_sharing/notebook/lib/python3.5/site-packages/sklearn/preprocessing/data.py:356: DeprecationWarning: Passing 1d arrays as data is deprecated in 0.17 and will raise ValueError in 0.19. Reshape your data either using X.reshape(-1, 1) if your data has a single feature or X.reshape(1, -1) if it contains a single sample.\n",
      "  warnings.warn(DEPRECATION_MSG_1D, DeprecationWarning)\n",
      "/Users/ponkin/Development/kaggle/bike_sharing/notebook/lib/python3.5/site-packages/sklearn/preprocessing/data.py:356: DeprecationWarning: Passing 1d arrays as data is deprecated in 0.17 and will raise ValueError in 0.19. Reshape your data either using X.reshape(-1, 1) if your data has a single feature or X.reshape(1, -1) if it contains a single sample.\n",
      "  warnings.warn(DEPRECATION_MSG_1D, DeprecationWarning)\n",
      "/Users/ponkin/Development/kaggle/bike_sharing/notebook/lib/python3.5/site-packages/sklearn/preprocessing/data.py:356: DeprecationWarning: Passing 1d arrays as data is deprecated in 0.17 and will raise ValueError in 0.19. Reshape your data either using X.reshape(-1, 1) if your data has a single feature or X.reshape(1, -1) if it contains a single sample.\n",
      "  warnings.warn(DEPRECATION_MSG_1D, DeprecationWarning)\n",
      "/Users/ponkin/Development/kaggle/bike_sharing/notebook/lib/python3.5/site-packages/sklearn/preprocessing/data.py:356: DeprecationWarning: Passing 1d arrays as data is deprecated in 0.17 and will raise ValueError in 0.19. Reshape your data either using X.reshape(-1, 1) if your data has a single feature or X.reshape(1, -1) if it contains a single sample.\n",
      "  warnings.warn(DEPRECATION_MSG_1D, DeprecationWarning)\n"
     ]
    }
   ],
   "source": [
    "scaler = data[['age', 'credit_sum', 'credit_month', 'score_shk', 'monthly_income', 'credit_count', 'overdue_credit_count']].fillna(0).apply(lambda x: preprocessing.MinMaxScaler().fit(x))\n",
    "clean_credits_train = credits_train[['age', 'credit_sum', 'credit_month', 'score_shk', 'monthly_income', 'credit_count', 'overdue_credit_count']].fillna(0)\n",
    "clean_credits_test = credits_test[['age', 'credit_sum', 'credit_month', 'score_shk', 'monthly_income', 'credit_count', 'overdue_credit_count']].fillna(0)\n",
    "scaler_train = pd.concat([\n",
    "    pd.DataFrame(scaler['age'].transform(clean_credits_train['age']), columns=['age']),\n",
    "    pd.DataFrame(scaler['credit_sum'].transform(clean_credits_train['credit_sum']), columns=['credit_sum']),\n",
    "    pd.DataFrame(scaler['credit_month'].transform(clean_credits_train['credit_month']), columns=['credit_month']),\n",
    "    pd.DataFrame(scaler['score_shk'].transform(clean_credits_train['score_shk']), columns=['score_shk']),\n",
    "    pd.DataFrame(scaler['monthly_income'].transform(clean_credits_train['monthly_income']), columns=['monthly_income']),\n",
    "    pd.DataFrame(scaler['credit_count'].transform(clean_credits_train['credit_count']), columns=['credit_count']),\n",
    "    pd.DataFrame(scaler['overdue_credit_count'].transform(clean_credits_train['overdue_credit_count']), columns=['overdue_credit_count'])\n",
    "], axis=1)\n",
    "scaler_test = pd.concat([\n",
    "    pd.DataFrame(scaler['age'].transform(clean_credits_test['age']), columns=['age']),\n",
    "    pd.DataFrame(scaler['credit_sum'].transform(clean_credits_test['credit_sum']), columns=['credit_sum']),\n",
    "    pd.DataFrame(scaler['credit_month'].transform(clean_credits_test['credit_month']), columns=['credit_month']),\n",
    "    pd.DataFrame(scaler['score_shk'].transform(clean_credits_test['score_shk']), columns=['score_shk']),\n",
    "    pd.DataFrame(scaler['monthly_income'].transform(clean_credits_test['monthly_income']), columns=['monthly_income']),\n",
    "    pd.DataFrame(scaler['credit_count'].transform(clean_credits_test['credit_count']), columns=['credit_count']),\n",
    "    pd.DataFrame(scaler['overdue_credit_count'].transform(clean_credits_test['overdue_credit_count']), columns=['overdue_credit_count'])    \n",
    "], axis=1)"
   ]
  },
  {
   "cell_type": "code",
   "execution_count": null,
   "metadata": {
    "collapsed": false,
    "deletable": true,
    "editable": true,
    "scrolled": true
   },
   "outputs": [],
   "source": [
    "from sklearn.ensemble import BaggingClassifier\n",
    "from sklearn.model_selection import cross_val_predict, GridSearchCV, RandomizedSearchCV, StratifiedShuffleSplit, ShuffleSplit\n",
    "from scipy import stats\n",
    "from sklearn import metrics\n",
    "from imblearn.ensemble import BalanceCascade \n",
    "\n",
    "train = pd.concat([cat_train, scaler_train], axis=1)\n",
    "\n",
    "n_estimators = 100\n",
    "#bclf = BaggingClassifier(svm.SVC(kernel='linear', C=0.01, cache_size=1000, probability=True), max_samples=1.0 / n_estimators, n_estimators=n_estimators, n_jobs=-1)\n",
    "#bclf = svm.SVC(kernel='linear', cache_size=1000)\n",
    "\n",
    "X_gs_train, X_gs_test, y_train, y_test = cross_validation.train_test_split(train, credits_train['open_account_flg'], test_size=0.8, random_state=17)\n",
    "\n",
    "#params = {'C': stats.expon(scale=100), 'kernel': ['linear'], 'class_weight':['balanced', None]}\n",
    "#params = {'C': [0.01, 0.0099, 0.0098, 0.011], 'kernel': ['linear']}\n",
    "#gs_clf = RandomizedSearchCV(estimator=bclf, param_distributions=params, n_jobs=-1)\n",
    "#gs_clf = GridSearchCV(estimator=bclf, param_grid=params, n_jobs=-1)\n",
    "#gs_clf.fit(X_gs_train, y_train) \n",
    "#clf.best_score_\n",
    "#clf.best_estimator_\n",
    "#best_parameters, score, _ = max(gs_clf.grid_scores_, key=lambda x: x[1])\n",
    "#for param_name in sorted(params.keys()):\n",
    "#     print(\"%s: %r\" % (param_name, best_parameters[param_name]))\n",
    "\n",
    "C_range = np.logspace(-2, 10, 13)\n",
    "gamma_range = np.logspace(-9, 3, 13)\n",
    "param_grid = dict(gamma=gamma_range, C=C_range)\n",
    "cv = StratifiedShuffleSplit(n_splits=5, test_size=0.5, random_state=42)\n",
    "grid = GridSearchCV(svm.SVC(class_weight={1: 10}), param_grid=param_grid, cv=cv, n_jobs=-1)\n",
    "\n",
    "grid.fit(X_gs_train, y_train)\n",
    "print(\"The best parameters are %s with a score of %0.2f\" % (grid.best_params_, grid.best_score_))\n",
    "\n",
    "#cv = StratifiedShuffleSplit(n_splits=5, test_size=0.5, random_state=37)\n",
    "#predicted = cross_val_predict(bclf, train, credits_train['open_account_flg'], cv=cv)\n",
    "#fpr, tpr, thresholds = metrics.roc_curve(credits_train['open_account_flg'], predicted, pos_label=2)\n",
    "#print(metrics.auc(fpr, tpr))\n",
    "#print(\"Accuracy: %0.2f (+/- %0.2f)\" % (scores.mean(), scores.std() * 2))"
   ]
  },
  {
   "cell_type": "code",
   "execution_count": null,
   "metadata": {
    "collapsed": false,
    "deletable": true,
    "editable": true,
    "scrolled": true
   },
   "outputs": [],
   "source": [
    "n_estimators = 100\n",
    "X_train, X_test, y_train, y_test = cross_validation.train_test_split(train, credits_train['open_account_flg'], test_size=0.3, random_state=17)\n",
    "bclf = BaggingClassifier(svm.SVC(kernel='linear', C=0.00000001, cache_size=1000), max_samples=1.0 / n_estimators, n_estimators=n_estimators, n_jobs=-1)\n",
    "cv = ShuffleSplit(n_splits=5, test_size=0.5, random_state=17)\n",
    "scores = cross_val_score(bclf, X_train, y_train, cv=cv)\n",
    "print(\"Accuracy: %0.2f (+/- %0.2f)\" % (scores.mean(), scores.std() * 2))"
   ]
  },
  {
   "cell_type": "code",
   "execution_count": null,
   "metadata": {
    "collapsed": false,
    "deletable": true,
    "editable": true,
    "scrolled": true
   },
   "outputs": [],
   "source": [
    "test = pd.concat([cat_test, scaler_test], axis=1)\n",
    "\n",
    "bclf.fit(X_test, y_test)\n",
    "result = bclf.predict(test)\n",
    "df = pd.DataFrame(result, columns=['_VAL_'])\n",
    "df['_VAL_'].value_counts()"
   ]
  },
  {
   "cell_type": "code",
   "execution_count": null,
   "metadata": {
    "collapsed": true,
    "deletable": true,
    "editable": true,
    "scrolled": true
   },
   "outputs": [],
   "source": [
    "#df.to_csv('tinkoff_result1.csv', encoding='cp1251', index=True, index_label='_ID_', sep=',', columns=['_VAL_'])"
   ]
  },
  {
   "cell_type": "code",
   "execution_count": null,
   "metadata": {
    "collapsed": false,
    "deletable": true,
    "editable": true,
    "scrolled": true
   },
   "outputs": [],
   "source": [
    "from sklearn.metrics import roc_auc_score\n",
    "import xgboost as xgb\n",
    "from hyperopt import hp, fmin, tpe, STATUS_OK, Trials\n",
    "\n",
    "train = pd.concat([cat_train, scaler_train], axis=1)\n",
    "X_train, X_test, y_train, y_test = cross_validation.train_test_split(train, credits_train['open_account_flg'], test_size=0.3, random_state=17)\n",
    "\n",
    "space = {\n",
    "        'max_depth': hp.choice('max_depth', np.arange(5, 15, dtype=int)),\n",
    "        'min_child_weight': hp.quniform ('x_min_child', 1, 10, 1),\n",
    "        'subsample': hp.uniform ('x_subsample', 0.8, 1)\n",
    "    }\n",
    "\n",
    "def objective(space):\n",
    "\n",
    "    clf = xgb.XGBClassifier(n_estimators = 800, learning_rate=0.1,\n",
    "                            max_depth = space['max_depth'],\n",
    "                            min_child_weight = space['min_child_weight'],\n",
    "                            subsample = space['subsample'])\n",
    "\n",
    "    eval_set  = [( X_train, y_train), ( X_test, y_test)]\n",
    "\n",
    "    clf.fit(X_train, y_train,\n",
    "            eval_set=eval_set, eval_metric=\"auc\", \n",
    "            early_stopping_rounds=30)\n",
    "\n",
    "    pred = clf.predict_proba(X_test)[:,1]\n",
    "    auc = roc_auc_score(y_test, pred)\n",
    "    print(\"SCORE: %0.2f\" % auc)\n",
    "    return {'loss':1-auc, 'status': STATUS_OK }\n",
    "\n",
    "\n",
    "trials = Trials()\n",
    "best = fmin(fn=objective,\n",
    "            space=space,\n",
    "            algo=tpe.suggest,\n",
    "            max_evals=10,\n",
    "            trials=trials)\n",
    "\n",
    "print(best)"
   ]
  },
  {
   "cell_type": "code",
   "execution_count": 7,
   "metadata": {
    "collapsed": true,
    "deletable": true,
    "editable": true,
    "scrolled": true
   },
   "outputs": [],
   "source": [
    "# Standard imports\n",
    "import matplotlib.pyplot as plt\n",
    "import numpy as np\n",
    "from collections import defaultdict, Counter\n",
    "\n",
    "%matplotlib inline\n",
    "plt.rcParams['figure.figsize'] = (12, 10)\n",
    "\n",
    "import sklearn\n",
    "from sklearn import svm, datasets\n",
    "from sklearn.utils import shuffle\n",
    "from sklearn import cross_validation, metrics\n",
    "from sklearn.tree import DecisionTreeClassifier\n",
    "from sklearn.linear_model import LogisticRegression\n",
    "from sklearn.ensemble import RandomForestClassifier\n",
    "from sklearn.cross_validation import KFold, StratifiedKFold, cross_val_score\n",
    "from sklearn.metrics import auc, roc_auc_score, roc_curve, precision_recall_curve\n",
    "from sklearn.svm import SVC\n",
    "from sklearn.datasets.covtype import fetch_covtype\n",
    "\n",
    "from scipy import interp\n",
    "\n",
    "def plot_ROC_curve(classifier, X, y, pos_label=1, n_folds=5):\n",
    "    mean_tpr = 0.0\n",
    "    mean_fpr = np.linspace(0, 1, 100)\n",
    "    all_tpr = []\n",
    "    for i, (train, test) in enumerate(StratifiedKFold(y, n_folds=n_folds)):\n",
    "        probas_ = classifier.fit(X[train], y[train]).predict_proba(X[test])\n",
    "        # Compute ROC curve and area under the curve\n",
    "        fpr, tpr, thresholds = roc_curve(y[test], probas_[:, 1], pos_label=1)\n",
    "        mean_tpr += interp(mean_fpr, fpr, tpr)\n",
    "        mean_tpr[0] = 0.0\n",
    "        roc_auc = auc(fpr, tpr)\n",
    "        plt.plot(fpr, tpr, lw=1, label='ROC fold %d (area = %0.2f)' % (i, roc_auc))\n",
    "    plt.plot([0, 1], [0, 1], '--', color=(0.6, 0.6, 0.6), label='Random')\n",
    "    mean_tpr /= n_folds\n",
    "    mean_tpr[-1] = 1.0\n",
    "    mean_auc = auc(mean_fpr, mean_tpr)\n",
    "    plt.plot(mean_fpr, mean_tpr, 'k--',\n",
    "         label='Mean ROC (area = %0.2f)' % mean_auc, lw=2)\n",
    "    plt.xlim([-0.05, 1.05])\n",
    "    plt.ylim([-0.05, 1.05])\n",
    "    plt.xlabel('False Positive Rate')\n",
    "    plt.ylabel('True Positive Rate')\n",
    "    plt.title('Receiver operating characteristic example')\n",
    "    plt.legend(loc=\"lower right\")\n",
    "    plt.show()\n",
    "\n",
    "def plot_PR_curve(classifier, X, y, n_folds=5):\n",
    "    \"\"\"\n",
    "    Plot a basic precision/recall curve.\n",
    "    \"\"\"\n",
    "    for i, (train, test) in enumerate(StratifiedKFold(y, n_folds=n_folds)):\n",
    "        probas_ = classifier.fit(X[train], y[train]).predict_proba(X[test])\n",
    "        # Compute ROC curve and area the curve\n",
    "        precision, recall, thresholds = precision_recall_curve(y[test], probas_[:, 1],\n",
    "                                                               pos_label=1)\n",
    "        plt.plot(recall, precision, lw=1, label='PR fold %d' % (i,))\n",
    "   #  clf_name = str(type(classifier))\n",
    "   # clf_name = clf_name[clf_name.rindex('.')+1:]\n",
    "    plt.xlim([-0.05, 1.05])\n",
    "    plt.ylim([-0.05, 1.05])\n",
    "    plt.xlabel('Recall')\n",
    "    plt.ylabel('Precision')\n",
    "    plt.title('Precision-recall curve')\n",
    "    plt.legend(loc=\"lower right\")\n",
    "    plt.show()"
   ]
  },
  {
   "cell_type": "code",
   "execution_count": 10,
   "metadata": {
    "collapsed": false,
    "deletable": true,
    "editable": true,
    "scrolled": true
   },
   "outputs": [
    {
     "data": {
      "image/png": "[encoded data removed]",
      "text/plain": [
       "<matplotlib.figure.Figure at 0x10a07ccf8>"
      ]
     },
     "metadata": {},
     "output_type": "display_data"
    }
   ],
   "source": [
    "from blagging import BlaggingClassifier\n",
    "from sklearn.ensemble import BaggingClassifier\n",
    "from sklearn.ensemble import RandomForestClassifier\n",
    "from sklearn.decomposition import PCA\n",
    "\n",
    "from sklearn.ensemble import GradientBoostingClassifier\n",
    "import xgboost as xgb\n",
    "\n",
    "train = pd.concat([cat_train, scaler_train], axis=1)\n",
    "\n",
    "n_estimators = 800\n",
    "\n",
    "clf = RandomForestClassifier(n_estimators=n_estimators,\n",
    "                               criterion='gini',\n",
    "                               max_depth=7,\n",
    "                               min_samples_split=2,\n",
    "                               min_samples_leaf=1,\n",
    "                               min_weight_fraction_leaf=0.0,\n",
    "                               max_features='auto',\n",
    "                               max_leaf_nodes=None,\n",
    "                               bootstrap=True,\n",
    "                               oob_score=False,\n",
    "                               n_jobs=-1,\n",
    "                               random_state=None,\n",
    "                               warm_start=False,\n",
    "                               class_weight=None)\n",
    "gbclf = GradientBoostingClassifier(max_depth=10)\n",
    "xgbclf = xgb.XGBClassifier(n_estimators = n_estimators, nthread=4, learning_rate=0.1)\n",
    "#bclf1 = BaggingClassifier(gbclf, max_samples=1.0 / n_estimators, n_estimators=n_estimators, n_jobs=-1)\n",
    "#bclf = BlaggingClassifier(max_samples=1.0 / n_estimators, n_estimators=n_estimators, n_jobs=-1, base_estimator=clf)\n",
    "plot_ROC_curve(xgbclf, train.as_matrix(), credits_train['open_account_flg'].as_matrix())\n",
    "#plot_ROC_curve(gbclf, train, credits_train['open_account_flg'])"
   ]
  },
  {
   "cell_type": "code",
   "execution_count": null,
   "metadata": {
    "collapsed": false,
    "deletable": true,
    "editable": true,
    "scrolled": true
   },
   "outputs": [],
   "source": [
    "test = pd.concat([cat_test, scaler_test], axis=1)\n",
    "\n",
    "xgbclf.fit(train, credits_train['open_account_flg'])\n",
    "result = xgbclf.predict_proba(test)\n",
    "\n",
    "df = pd.DataFrame(result[:, 1], columns=['_VAL_'])\n",
    "df.index = df.index + 170747\n",
    "df.to_csv('tinkoff_result5.csv', encoding='cp1251', index=True, index_label='_ID_', sep=',', columns=['_VAL_'])"
   ]
  },
  {
   "cell_type": "code",
   "execution_count": null,
   "metadata": {
    "collapsed": false,
    "deletable": true,
    "editable": true,
    "scrolled": true
   },
   "outputs": [],
   "source": [
    "from xgboost import XGBClassifier\n",
    "from sklearn.model_selection import GridSearchCV\n",
    "from sklearn.model_selection import StratifiedKFold\n",
    "\n",
    "train = pd.concat([cat_train, scaler_train], axis=1)\n",
    "\n",
    "model = XGBClassifier()\n",
    "learning_rate = [0.0001, 0.001, 0.01, 0.1, 0.2, 0.3]\n",
    "param_grid = dict(learning_rate=learning_rate)\n",
    "kfold = StratifiedKFold(n_splits=50, shuffle=True, random_state=7)\n",
    "grid_search = GridSearchCV(model, param_grid, scoring=\"roc_auc\", n_jobs=-1, cv=kfold)\n",
    "grid_result = grid_search.fit(train, credits_train['open_account_flg'])\n",
    "# summarize results\n",
    "print(\"Best: %f using %s\" % (grid_result.best_score_, grid_result.best_params_))\n",
    "means = grid_result.cv_results_['mean_test_score']\n",
    "stds = grid_result.cv_results_['std_test_score']\n",
    "params = grid_result.cv_results_['params']\n",
    "for mean, stdev, param in zip(means, stds, params):\n",
    "    print(\"%f (%f) with: %r\" % (mean, stdev, param))\n",
    "# plot\n",
    "plt.errorbar(learning_rate, means, yerr=stds)\n",
    "plt.title(\"XGBoost learning_rate vs Log Loss\")\n",
    "plt.xlabel('learning_rate')\n",
    "plt.ylabel('Log Loss')\n",
    "plt.savefig('learning_rate.png')"
   ]
  },
  {
   "cell_type": "code",
   "execution_count": null,
   "metadata": {
    "collapsed": false,
    "deletable": true,
    "editable": true,
    "scrolled": true
   },
   "outputs": [],
   "source": [
    "from xgboost import XGBClassifier\n",
    "from sklearn.model_selection import GridSearchCV\n",
    "from sklearn.model_selection import StratifiedKFold\n",
    "\n",
    "train = pd.concat([cat_train, scaler_train], axis=1)\n",
    "\n",
    "model = XGBClassifier()\n",
    "n_estimators = [500, 600, 700, 800, 900, 1000]\n",
    "learning_rate = [0.0001, 0.001, 0.01, 0.1]\n",
    "max_depth = [3, 4, 5, 6, 7, 8, 9, 10]\n",
    "param_grid = dict(learning_rate=learning_rate, n_estimators=n_estimators, max_depth=max_depth)\n",
    "kfold = StratifiedKFold(n_splits=10, shuffle=True, random_state=7)\n",
    "grid_search = GridSearchCV(model, param_grid, scoring=\"roc_auc\", n_jobs=-1, cv=kfold)\n",
    "grid_result = grid_search.fit(train, credits_train['open_account_flg'])\n",
    "# summarize results\n",
    "print(\"Best: %f using %s\" % (grid_result.best_score_, grid_result.best_params_))\n",
    "means = grid_result.cv_results_['mean_test_score']\n",
    "stds = grid_result.cv_results_['std_test_score']\n",
    "params = grid_result.cv_results_['params']\n",
    "for mean, stdev, param in zip(means, stds, params):\n",
    "    print(\"%f (%f) with: %r\" % (mean, stdev, param))\n",
    "# plot results\n",
    "scores = np.array(means).reshape(len(learning_rate), len(n_estimators))\n",
    "for i, value in enumerate(learning_rate):\n",
    "    plt.plot(n_estimators, scores[i], label='learning_rate: ' + str(value))\n",
    "plt.legend()\n",
    "plt.xlabel('n_estimators')\n",
    "plt.ylabel('Log Loss')\n",
    "plt.savefig('n_estimators_vs_learning_rate.png')"
   ]
  },
  {
   "cell_type": "code",
   "execution_count": null,
   "metadata": {
    "collapsed": true,
    "deletable": true,
    "editable": true,
    "scrolled": true
   },
   "outputs": [],
   "source": []
  }
 ],
 "metadata": {
  "kernelspec": {
   "display_name": "Python 3",
   "language": "python",
   "name": "python3"
  },
  "language_info": {
   "codemirror_mode": {
    "name": "ipython",
    "version": 3
   },
   "file_extension": ".py",
   "mimetype": "text/x-python",
   "name": "python",
   "nbconvert_exporter": "python",
   "pygments_lexer": "ipython3",
   "version": "3.6.0"
  }
 },
 "nbformat": 4,
 "nbformat_minor": 2
}
